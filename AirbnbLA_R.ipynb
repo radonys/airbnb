{
  "nbformat": 4,
  "nbformat_minor": 0,
  "metadata": {
    "colab": {
      "name": "AirbnbLA-R.ipynb",
      "provenance": [],
      "collapsed_sections": [
        "4cDf7jC7Yfi3",
        "B-Rg3FOIYuW7",
        "UT3YxVoJZ5LM",
        "_QhiaWVtaDoo",
        "D7JulyskaNbx",
        "otwMljd0aWQ7",
        "7I0d3Ty-aaJP",
        "8-Yx9_34qhj8",
        "NTR-IvHVbPTG",
        "dE_4i1aG6CeQ",
        "g5PHw2Cm6lQ6",
        "zXpyAt30Hb81",
        "62PUaJ6vP9ld",
        "1tFff4-vo2mg",
        "Of_Ct93vXy5G",
        "uI-somYifrZC",
        "QSVGNdjCfuZP",
        "pdCpsHdKiFbV",
        "JFJw3DNLmilK",
        "xNUNeYrrrW3m",
        "JmLblAX8zUPD",
        "Pv5HLYeMl5lL",
        "zP8deDe-V_Ec",
        "hHzWJwO0prHR"
      ],
      "toc_visible": true,
      "include_colab_link": true
    },
    "kernelspec": {
      "name": "ir",
      "display_name": "R"
    }
  },
  "cells": [
    {
      "cell_type": "markdown",
      "metadata": {
        "id": "view-in-github",
        "colab_type": "text"
      },
      "source": [
        "<a href=\"https://colab.research.google.com/github/radonys/airbnb/blob/master/AirbnbLA_R.ipynb\" target=\"_parent\"><img src=\"https://colab.research.google.com/assets/colab-badge.svg\" alt=\"Open In Colab\"/></a>"
      ]
    },
    {
      "cell_type": "markdown",
      "metadata": {
        "id": "Y0abIvmX516a",
        "colab_type": "text"
      },
      "source": [
        "### Data Mining and Predictive Analytics\n",
        "\n"
      ]
    },
    {
      "cell_type": "markdown",
      "metadata": {
        "id": "EJMLdHWDUlei",
        "colab_type": "text"
      },
      "source": [
        "#### Project Title: **Airbnb LA Business Analysis**\n",
        "---\n",
        "#### Market Assigned: **Los Angeles**\n",
        "---"
      ]
    },
    {
      "cell_type": "markdown",
      "metadata": {
        "id": "DjacsVIiWAcq",
        "colab_type": "text"
      },
      "source": [
        "\"We, the undersigned, certify that the report submitted is our original work; all authors participated in the work in a substantive way; all authors have seen and approved the report as submitted; the text, images, illustrations, and other items included in the manuscript do not carry any infringement/plagiarism issue upon any existing copyrighted materials.\"\n",
        "\n",
        "\n",
        "---\n",
        "\n",
        "Member ID | Member Name \n",
        "--- | ---\n",
        "Contact Member | Yash Srivastava\n",
        "Team Member 2 | Shohini Ghosh\n",
        "Team Member 3 | Manas Mishra\n",
        "Team Member 4 | Madhura Dighe\n",
        "Team Member 5 | Pratik Pandey\n",
        "Team Member 6 | Surbhi Gupta"
      ]
    },
    {
      "cell_type": "markdown",
      "metadata": {
        "id": "4cDf7jC7Yfi3",
        "colab_type": "text"
      },
      "source": [
        "#### Executive Summary"
      ]
    },
    {
      "cell_type": "markdown",
      "metadata": {
        "id": "F3Qt_rhvZyXS",
        "colab_type": "text"
      },
      "source": [
        ""
      ]
    },
    {
      "cell_type": "markdown",
      "metadata": {
        "id": "B-Rg3FOIYuW7",
        "colab_type": "text"
      },
      "source": [
        "#### Research Questions"
      ]
    },
    {
      "cell_type": "markdown",
      "metadata": {
        "id": "hAwfdyyhZsTw",
        "colab_type": "text"
      },
      "source": [
        ""
      ]
    },
    {
      "cell_type": "markdown",
      "metadata": {
        "id": "UT3YxVoJZ5LM",
        "colab_type": "text"
      },
      "source": [
        "#### Methodology"
      ]
    },
    {
      "cell_type": "markdown",
      "metadata": {
        "id": "tUTzmzW3aCsR",
        "colab_type": "text"
      },
      "source": [
        ""
      ]
    },
    {
      "cell_type": "markdown",
      "metadata": {
        "id": "_QhiaWVtaDoo",
        "colab_type": "text"
      },
      "source": [
        "#### Results and Findings"
      ]
    },
    {
      "cell_type": "markdown",
      "metadata": {
        "id": "83ruWipiaK6M",
        "colab_type": "text"
      },
      "source": [
        ""
      ]
    },
    {
      "cell_type": "markdown",
      "metadata": {
        "id": "D7JulyskaNbx",
        "colab_type": "text"
      },
      "source": [
        "#### Conclusion and Discussions"
      ]
    },
    {
      "cell_type": "markdown",
      "metadata": {
        "id": "YPF-lp88aSc2",
        "colab_type": "text"
      },
      "source": [
        ""
      ]
    },
    {
      "cell_type": "markdown",
      "metadata": {
        "id": "otwMljd0aWQ7",
        "colab_type": "text"
      },
      "source": [
        "#### References"
      ]
    },
    {
      "cell_type": "markdown",
      "metadata": {
        "id": "LT0NSyA5aYnk",
        "colab_type": "text"
      },
      "source": [
        ""
      ]
    },
    {
      "cell_type": "markdown",
      "metadata": {
        "id": "7I0d3Ty-aaJP",
        "colab_type": "text"
      },
      "source": [
        "#### Appendix"
      ]
    },
    {
      "cell_type": "markdown",
      "metadata": {
        "id": "tQFP1Ff-acNy",
        "colab_type": "text"
      },
      "source": [
        ""
      ]
    },
    {
      "cell_type": "markdown",
      "metadata": {
        "id": "8-Yx9_34qhj8",
        "colab_type": "text"
      },
      "source": [
        "### Code\n"
      ]
    },
    {
      "cell_type": "markdown",
      "metadata": {
        "id": "NTR-IvHVbPTG",
        "colab_type": "text"
      },
      "source": [
        "#### Libraries"
      ]
    },
    {
      "cell_type": "markdown",
      "metadata": {
        "id": "dE_4i1aG6CeQ",
        "colab_type": "text"
      },
      "source": [
        "##### Install Libraries"
      ]
    },
    {
      "cell_type": "code",
      "metadata": {
        "id": "TgDkJZ1P5B3Z",
        "colab_type": "code",
        "outputId": "c4653976-e6f0-418a-85ab-f6c8e599bf47",
        "colab": {
          "base_uri": "https://localhost:8080/",
          "height": 68
        }
      },
      "source": [
        "install.packages(c(\"tidymodels\", \"plotly\", \"lubridate\", \"car\", \"fpp3\", \"skimr\", \"caret\"))"
      ],
      "execution_count": 0,
      "outputs": [
        {
          "output_type": "stream",
          "text": [
            "Installing packages into ‘/usr/local/lib/R/site-library’\n",
            "(as ‘lib’ is unspecified)\n",
            "\n"
          ],
          "name": "stderr"
        }
      ]
    },
    {
      "cell_type": "markdown",
      "metadata": {
        "id": "g5PHw2Cm6lQ6",
        "colab_type": "text"
      },
      "source": [
        "##### Load Libraries"
      ]
    },
    {
      "cell_type": "code",
      "metadata": {
        "id": "OrG_VCh76nRs",
        "colab_type": "code",
        "outputId": "524db5af-eb52-421d-b641-f237e84fa7a0",
        "colab": {
          "base_uri": "https://localhost:8080/",
          "height": 1000
        }
      },
      "source": [
        "library(\"tidyverse\")\n",
        "library(\"tidymodels\")\n",
        "library(\"plotly\")\n",
        "library(\"skimr\")\n",
        "#library(\"caret\")\n",
        "library(\"lubridate\")"
      ],
      "execution_count": 1,
      "outputs": [
        {
          "output_type": "stream",
          "text": [
            "── \u001b[1mAttaching packages\u001b[22m ─────────────────────────────────────── tidyverse 1.3.0 ──\n",
            "\n",
            "\u001b[32m✔\u001b[39m \u001b[34mggplot2\u001b[39m 3.3.0     \u001b[32m✔\u001b[39m \u001b[34mpurrr  \u001b[39m 0.3.3\n",
            "\u001b[32m✔\u001b[39m \u001b[34mtibble \u001b[39m 3.0.0     \u001b[32m✔\u001b[39m \u001b[34mdplyr  \u001b[39m 0.8.5\n",
            "\u001b[32m✔\u001b[39m \u001b[34mtidyr  \u001b[39m 1.0.2     \u001b[32m✔\u001b[39m \u001b[34mstringr\u001b[39m 1.4.0\n",
            "\u001b[32m✔\u001b[39m \u001b[34mreadr  \u001b[39m 1.3.1     \u001b[32m✔\u001b[39m \u001b[34mforcats\u001b[39m 0.5.0\n",
            "\n",
            "── \u001b[1mConflicts\u001b[22m ────────────────────────────────────────── tidyverse_conflicts() ──\n",
            "\u001b[31m✖\u001b[39m \u001b[34mdplyr\u001b[39m::\u001b[32mfilter()\u001b[39m masks \u001b[34mstats\u001b[39m::filter()\n",
            "\u001b[31m✖\u001b[39m \u001b[34mdplyr\u001b[39m::\u001b[32mlag()\u001b[39m    masks \u001b[34mstats\u001b[39m::lag()\n",
            "\n",
            "── \u001b[1mAttaching packages\u001b[22m ────────────────────────────────────── tidymodels 0.1.0 ──\n",
            "\n",
            "\u001b[32m✔\u001b[39m \u001b[34mbroom    \u001b[39m 0.5.5      \u001b[32m✔\u001b[39m \u001b[34mrsample  \u001b[39m 0.0.6 \n",
            "\u001b[32m✔\u001b[39m \u001b[34mdials    \u001b[39m 0.0.6      \u001b[32m✔\u001b[39m \u001b[34mtune     \u001b[39m 0.1.0 \n",
            "\u001b[32m✔\u001b[39m \u001b[34minfer    \u001b[39m 0.5.1      \u001b[32m✔\u001b[39m \u001b[34mworkflows\u001b[39m 0.1.1 \n",
            "\u001b[32m✔\u001b[39m \u001b[34mparsnip  \u001b[39m 0.1.0      \u001b[32m✔\u001b[39m \u001b[34myardstick\u001b[39m 0.0.6 \n",
            "\u001b[32m✔\u001b[39m \u001b[34mrecipes  \u001b[39m 0.1.12     \n",
            "\n",
            "── \u001b[1mConflicts\u001b[22m ───────────────────────────────────────── tidymodels_conflicts() ──\n",
            "\u001b[31m✖\u001b[39m \u001b[34mscales\u001b[39m::\u001b[32mdiscard()\u001b[39m masks \u001b[34mpurrr\u001b[39m::discard()\n",
            "\u001b[31m✖\u001b[39m \u001b[34mdplyr\u001b[39m::\u001b[32mfilter()\u001b[39m   masks \u001b[34mstats\u001b[39m::filter()\n",
            "\u001b[31m✖\u001b[39m \u001b[34mrecipes\u001b[39m::\u001b[32mfixed()\u001b[39m  masks \u001b[34mstringr\u001b[39m::fixed()\n",
            "\u001b[31m✖\u001b[39m \u001b[34mdplyr\u001b[39m::\u001b[32mlag()\u001b[39m      masks \u001b[34mstats\u001b[39m::lag()\n",
            "\u001b[31m✖\u001b[39m \u001b[34mdials\u001b[39m::\u001b[32mmargin()\u001b[39m   masks \u001b[34mggplot2\u001b[39m::margin()\n",
            "\u001b[31m✖\u001b[39m \u001b[34myardstick\u001b[39m::\u001b[32mspec()\u001b[39m masks \u001b[34mreadr\u001b[39m::spec()\n",
            "\u001b[31m✖\u001b[39m \u001b[34mrecipes\u001b[39m::\u001b[32mstep()\u001b[39m   masks \u001b[34mstats\u001b[39m::step()\n",
            "\n",
            "\n",
            "Attaching package: ‘plotly’\n",
            "\n",
            "\n",
            "The following object is masked from ‘package:ggplot2’:\n",
            "\n",
            "    last_plot\n",
            "\n",
            "\n",
            "The following object is masked from ‘package:stats’:\n",
            "\n",
            "    filter\n",
            "\n",
            "\n",
            "The following object is masked from ‘package:graphics’:\n",
            "\n",
            "    layout\n",
            "\n",
            "\n",
            "\n",
            "Attaching package: ‘lubridate’\n",
            "\n",
            "\n",
            "The following objects are masked from ‘package:dplyr’:\n",
            "\n",
            "    intersect, setdiff, union\n",
            "\n",
            "\n",
            "The following objects are masked from ‘package:base’:\n",
            "\n",
            "    date, intersect, setdiff, union\n",
            "\n",
            "\n"
          ],
          "name": "stderr"
        }
      ]
    },
    {
      "cell_type": "markdown",
      "metadata": {
        "id": "zXpyAt30Hb81",
        "colab_type": "text"
      },
      "source": [
        "#### Read Data"
      ]
    },
    {
      "cell_type": "code",
      "metadata": {
        "id": "3fBybisBHfe6",
        "colab_type": "code",
        "outputId": "f6d2f179-107b-46e8-ce95-281f31b8938d",
        "colab": {
          "base_uri": "https://localhost:8080/",
          "height": 969
        }
      },
      "source": [
        "train <- read_csv(\"airbnbTrain.csv\")\n",
        "test <- read_csv(\"airbnbTest.csv\")"
      ],
      "execution_count": 87,
      "outputs": [
        {
          "output_type": "stream",
          "text": [
            "Parsed with column specification:\n",
            "cols(\n",
            "  .default = col_character(),\n",
            "  id = \u001b[32mcol_double()\u001b[39m,\n",
            "  high_booking_rate = \u001b[32mcol_double()\u001b[39m,\n",
            "  accommodates = \u001b[32mcol_double()\u001b[39m,\n",
            "  availability_30 = \u001b[32mcol_double()\u001b[39m,\n",
            "  availability_365 = \u001b[32mcol_double()\u001b[39m,\n",
            "  availability_60 = \u001b[32mcol_double()\u001b[39m,\n",
            "  availability_90 = \u001b[32mcol_double()\u001b[39m,\n",
            "  bathrooms = \u001b[32mcol_double()\u001b[39m,\n",
            "  bedrooms = \u001b[32mcol_double()\u001b[39m,\n",
            "  beds = \u001b[32mcol_double()\u001b[39m,\n",
            "  guests_included = \u001b[32mcol_double()\u001b[39m,\n",
            "  host_has_profile_pic = \u001b[33mcol_logical()\u001b[39m,\n",
            "  host_identity_verified = \u001b[33mcol_logical()\u001b[39m,\n",
            "  host_is_superhost = \u001b[33mcol_logical()\u001b[39m,\n",
            "  host_listings_count = \u001b[32mcol_double()\u001b[39m,\n",
            "  host_since = \u001b[34mcol_date(format = \"\")\u001b[39m,\n",
            "  instant_bookable = \u001b[33mcol_logical()\u001b[39m,\n",
            "  is_business_travel_ready = \u001b[33mcol_logical()\u001b[39m,\n",
            "  is_location_exact = \u001b[33mcol_logical()\u001b[39m,\n",
            "  latitude = \u001b[32mcol_double()\u001b[39m\n",
            "  # ... with 15 more columns\n",
            ")\n",
            "\n",
            "See spec(...) for full column specifications.\n",
            "\n",
            "Parsed with column specification:\n",
            "cols(\n",
            "  .default = col_character(),\n",
            "  id = \u001b[32mcol_double()\u001b[39m,\n",
            "  accommodates = \u001b[32mcol_double()\u001b[39m,\n",
            "  availability_30 = \u001b[32mcol_double()\u001b[39m,\n",
            "  availability_365 = \u001b[32mcol_double()\u001b[39m,\n",
            "  availability_60 = \u001b[32mcol_double()\u001b[39m,\n",
            "  availability_90 = \u001b[32mcol_double()\u001b[39m,\n",
            "  bathrooms = \u001b[32mcol_double()\u001b[39m,\n",
            "  bedrooms = \u001b[32mcol_double()\u001b[39m,\n",
            "  beds = \u001b[32mcol_double()\u001b[39m,\n",
            "  guests_included = \u001b[32mcol_double()\u001b[39m,\n",
            "  host_has_profile_pic = \u001b[33mcol_logical()\u001b[39m,\n",
            "  host_identity_verified = \u001b[33mcol_logical()\u001b[39m,\n",
            "  host_is_superhost = \u001b[33mcol_logical()\u001b[39m,\n",
            "  host_listings_count = \u001b[32mcol_double()\u001b[39m,\n",
            "  host_since = \u001b[34mcol_date(format = \"\")\u001b[39m,\n",
            "  instant_bookable = \u001b[33mcol_logical()\u001b[39m,\n",
            "  is_business_travel_ready = \u001b[33mcol_logical()\u001b[39m,\n",
            "  is_location_exact = \u001b[33mcol_logical()\u001b[39m,\n",
            "  latitude = \u001b[32mcol_double()\u001b[39m,\n",
            "  longitude = \u001b[32mcol_double()\u001b[39m\n",
            "  # ... with 14 more columns\n",
            ")\n",
            "\n",
            "See spec(...) for full column specifications.\n",
            "\n"
          ],
          "name": "stderr"
        }
      ]
    },
    {
      "cell_type": "markdown",
      "metadata": {
        "id": "62PUaJ6vP9ld",
        "colab_type": "text"
      },
      "source": [
        "#### Filter LA Data"
      ]
    },
    {
      "cell_type": "code",
      "metadata": {
        "id": "H1Goa9t0P_Dt",
        "colab_type": "code",
        "colab": {}
      },
      "source": [
        "trainLA <- train %>% \n",
        "    rename(randomControl = \"{randomControl}\") %>% \n",
        "    mutate(randomControl = as.numeric(randomControl)) %>% \n",
        "    filter(randomControl > 111999 & randomControl < 113000)\n",
        "\n",
        "testLA <- test %>% \n",
        "    rename(randomControl = \"{randomControl}\") %>% \n",
        "    mutate(randomControl = as.numeric(randomControl)) %>% \n",
        "    filter(randomControl > 111999 & randomControl < 113000)"
      ],
      "execution_count": 0,
      "outputs": []
    },
    {
      "cell_type": "markdown",
      "metadata": {
        "id": "EON8JwGkV8og",
        "colab_type": "text"
      },
      "source": [
        "#### Clean Data"
      ]
    },
    {
      "cell_type": "markdown",
      "metadata": {
        "id": "1tFff4-vo2mg",
        "colab_type": "text"
      },
      "source": [
        "##### View Initial Table Properties"
      ]
    },
    {
      "cell_type": "code",
      "metadata": {
        "id": "ZGOxG9q8dqZo",
        "colab_type": "code",
        "colab": {
          "base_uri": "https://localhost:8080/",
          "height": 1000
        },
        "outputId": "4eea283e-2cd4-4f09-a0b2-d44fb2c8005b"
      },
      "source": [
        "skim(trainLA)"
      ],
      "execution_count": 89,
      "outputs": [
        {
          "output_type": "stream",
          "text": [
            "── Data Summary ────────────────────────\n",
            "                           Values \n",
            "Name                       trainLA\n",
            "Number of rows             24075  \n",
            "Number of columns          66     \n",
            "_______________________           \n",
            "Column type frequency:            \n",
            "  character                31     \n",
            "  Date                     1      \n",
            "  logical                  9      \n",
            "  numeric                  25     \n",
            "________________________          \n",
            "Group variables            None   \n",
            "\n",
            "── Variable type: character ────────────────────────────────────────────────────\n",
            "   skim_variable         n_missing complete_rate   min   max empty n_unique\n",
            " 1 access                    10120        0.580      1  1000     0    12325\n",
            " 2 amenities                     0        1          2  1918     0    22663\n",
            " 3 bed_type                      0        1          5    13     0        5\n",
            " 4 cancellation_policy           0        1          6    27     0        9\n",
            " 5 city                         17        0.999      2    46     0      277\n",
            " 6 cleaning_fee               3107        0.871      5     9     0      282\n",
            " 7 description                 829        0.966      1  1000     0    22353\n",
            " 8 extra_people                  0        1          5     7     0       87\n",
            " 9 host_about                 8937        0.629      1  9374     0     9343\n",
            "10 host_acceptance_rate        255        0.989      3     3     0        1\n",
            "11 host_location               317        0.987      2   170     0      696\n",
            "12 host_neighbourhood         4285        0.822      3    30     0      343\n",
            "13 host_response_rate          255        0.989      2     4     0       70\n",
            "14 host_response_time          255        0.989      3    18     0        5\n",
            "15 host_verifications            0        1          2   177     0      424\n",
            "16 house_rules                7304        0.697      1  1000     0    14248\n",
            "17 interaction                8678        0.640      1  1000     0    12877\n",
            "18 market                       31        0.999      5    53     0       30\n",
            "19 monthly_price             21786        0.0951     7    10     0      545\n",
            "20 neighborhood_overview      8138        0.662      1  1000     0    13838\n",
            "21 neighbourhood              1334        0.945      4    28     0      162\n",
            "22 notes                     12166        0.495      1  1000     0    10188\n",
            "23 price                         0        1          5    10     0      756\n",
            "24 property_type                 0        1          3    22     0       42\n",
            "25 room_type                     0        1         10    15     0        4\n",
            "26 security_deposit           5738        0.762      5    11     0      197\n",
            "27 space                      6239        0.741      1  1000     0    16464\n",
            "28 state                         3        1.00       2    10     0        9\n",
            "29 transit                    9404        0.609      1  1000     0    12707\n",
            "30 weekly_price              21655        0.101      6    10     0      500\n",
            "31 zipcode                     275        0.989      1    99     0      326\n",
            "   whitespace\n",
            " 1          0\n",
            " 2          0\n",
            " 3          0\n",
            " 4          0\n",
            " 5          0\n",
            " 6          0\n",
            " 7          0\n",
            " 8          0\n",
            " 9         86\n",
            "10          0\n",
            "11          0\n",
            "12          0\n",
            "13          0\n",
            "14          0\n",
            "15          0\n",
            "16          0\n",
            "17          0\n",
            "18          0\n",
            "19          0\n",
            "20          0\n",
            "21          0\n",
            "22          0\n",
            "23          0\n",
            "24          0\n",
            "25          0\n",
            "26          0\n",
            "27          0\n",
            "28          0\n",
            "29          0\n",
            "30          0\n",
            "31          0\n",
            "\n",
            "── Variable type: Date ─────────────────────────────────────────────────────────\n",
            "  skim_variable n_missing complete_rate min        max        median    \n",
            "1 host_since          255         0.989 2008-06-27 2019-12-05 2015-11-19\n",
            "  n_unique\n",
            "1     3341\n",
            "\n",
            "── Variable type: logical ──────────────────────────────────────────────────────\n",
            "  skim_variable                    n_missing complete_rate   mean\n",
            "1 host_has_profile_pic                   255         0.989 0.997 \n",
            "2 host_identity_verified                 255         0.989 0.445 \n",
            "3 host_is_superhost                      255         0.989 0.313 \n",
            "4 instant_bookable                         0         1     0.456 \n",
            "5 is_business_travel_ready                 0         1     0     \n",
            "6 is_location_exact                        0         1     0.783 \n",
            "7 require_guest_phone_verification         0         1     0.0223\n",
            "8 require_guest_profile_picture            0         1     0.0155\n",
            "9 requires_license                         0         1     0.653 \n",
            "  count                 \n",
            "1 TRU: 23747, FAL: 73   \n",
            "2 FAL: 13221, TRU: 10599\n",
            "3 FAL: 16355, TRU: 7465 \n",
            "4 FAL: 13089, TRU: 10986\n",
            "5 FAL: 24075            \n",
            "6 TRU: 18861, FAL: 5214 \n",
            "7 FAL: 23539, TRU: 536  \n",
            "8 FAL: 23703, TRU: 372  \n",
            "9 TRU: 15714, FAL: 8361 \n",
            "\n",
            "── Variable type: numeric ──────────────────────────────────────────────────────\n",
            "   skim_variable               n_missing complete_rate        mean        sd\n",
            " 1 id                                  0       1       1101416.    58384.   \n",
            " 2 high_booking_rate                   0       1             0.273     0.445\n",
            " 3 accommodates                        0       1             3.71      2.73 \n",
            " 4 availability_30                     0       1            11.5      11.5  \n",
            " 5 availability_365                    0       1           159.      140.   \n",
            " 6 availability_60                     0       1            27.7      23.2  \n",
            " 7 availability_90                     0       1            45.4      35.2  \n",
            " 8 bathrooms                          20       0.999         1.49      1.01 \n",
            " 9 bedrooms                           39       0.998         1.45      1.13 \n",
            "10 beds                               54       0.998         2.00      1.65 \n",
            "11 guests_included                     0       1             1.97      1.84 \n",
            "12 host_listings_count               255       0.989        23.3     149.   \n",
            "13 latitude                            0       1            34.1       0.123\n",
            "14 longitude                           0       1          -118.        0.163\n",
            "15 maximum_nights                      0       1           656.      885.   \n",
            "16 minimum_nights                      0       1            11.0      21.0  \n",
            "17 review_scores_accuracy           5170       0.785         9.62      0.873\n",
            "18 review_scores_checkin            5177       0.785         9.76      0.754\n",
            "19 review_scores_cleanliness        5172       0.785         9.42      0.981\n",
            "20 review_scores_communication      5169       0.785         9.74      0.771\n",
            "21 review_scores_location           5180       0.785         9.70      0.724\n",
            "22 review_scores_rating             5163       0.786        94.3       8.68 \n",
            "23 review_scores_value              5185       0.785         9.44      0.920\n",
            "24 square_feet                     23879       0.00814     998.      915.   \n",
            "25 randomControl                       0       1        112498.      288.   \n",
            "          p0       p25       p50       p75      p100 hist \n",
            " 1 1000003   1050824.  1101264   1151702.  1202114   ▇▇▇▇▇\n",
            " 2       0         0         0         1         1   ▇▁▁▁▃\n",
            " 3       1         2         3         5        24   ▇▂▁▁▁\n",
            " 4       0         0         8        23        30   ▇▂▂▂▃\n",
            " 5       0         6.5     134       319       365   ▇▃▂▂▆\n",
            " 6       0         0        29        51        60   ▇▂▃▃▆\n",
            " 7       0         1        54        80        90   ▇▂▂▅▇\n",
            " 8       0         1         1         2        13.5 ▇▁▁▁▁\n",
            " 9       0         1         1         2        11   ▇▁▁▁▁\n",
            "10       0         1         1         2        50   ▇▁▁▁▁\n",
            "11       1         1         1         2        24   ▇▁▁▁▁\n",
            "12       0         1         2         6      1759   ▇▁▁▁▁\n",
            "13      33.3      34.0      34.1      34.1      34.8 ▁▁▇▁▁\n",
            "14    -119.     -118.     -118.     -118.     -118.  ▁▃▇▂▁\n",
            "15       1        31      1125      1125    111111   ▇▁▁▁▁\n",
            "16       1         1         2        30       750   ▇▁▁▁▁\n",
            "17       2         9        10        10        10   ▁▁▁▁▇\n",
            "18       2        10        10        10        10   ▁▁▁▁▇\n",
            "19       2         9        10        10        10   ▁▁▁▁▇\n",
            "20       2        10        10        10        10   ▁▁▁▁▇\n",
            "21       2        10        10        10        10   ▁▁▁▁▇\n",
            "22      20        93        97       100       100   ▁▁▁▁▇\n",
            "23       2         9        10        10        10   ▁▁▁▁▇\n",
            "24       0       460       750      1212.     6000   ▇▂▁▁▁\n",
            "25  112000    112249    112501    112745    112999   ▇▇▇▇▇\n"
          ],
          "name": "stdout"
        }
      ]
    },
    {
      "cell_type": "markdown",
      "metadata": {
        "id": "Of_Ct93vXy5G",
        "colab_type": "text"
      },
      "source": [
        "##### Character to Numeric Variables"
      ]
    },
    {
      "cell_type": "code",
      "metadata": {
        "id": "pl3yzefsX3T1",
        "colab_type": "code",
        "colab": {
          "base_uri": "https://localhost:8080/",
          "height": 105
        },
        "outputId": "a6bba083-27a9-4b2d-ec11-5bdd92a11bc2"
      },
      "source": [
        "trainLA$price <- as.numeric(gsub('\\\\$|,', '', trainLA$price))\n",
        "testLA$price <- as.numeric(gsub('\\\\$|,', '', testLA$price))\n",
        "\n",
        "trainLA$security_deposit <- as.numeric(gsub('\\\\$|,', '', trainLA$security_deposit))\n",
        "testLA$security_deposit <- as.numeric(gsub('\\\\$|,', '', testLA$security_deposit))\n",
        "\n",
        "trainLA$cleaning_fee <- as.numeric(gsub('\\\\$|,', '', trainLA$cleaning_fee))\n",
        "testLA$cleaning_fee <- as.numeric(gsub('\\\\$|,', '', testLA$cleaning_fee))\n",
        "\n",
        "trainLA$extra_people <- as.numeric(gsub('\\\\$|,', '', trainLA$extra_people))\n",
        "testLA$extra_people <- as.numeric(gsub('\\\\$|,', '', testLA$extra_people))\n",
        "\n",
        "trainLA$host_response_rate <- as.numeric(gsub('%', '', trainLA$host_response_rate))\n",
        "testLA$host_response_rate <- as.numeric(gsub('%', '', testLA$host_response_rate))"
      ],
      "execution_count": 90,
      "outputs": [
        {
          "output_type": "stream",
          "text": [
            "Warning message in eval(expr, envir, enclos):\n",
            "“NAs introduced by coercion”\n",
            "Warning message in eval(expr, envir, enclos):\n",
            "“NAs introduced by coercion”\n"
          ],
          "name": "stderr"
        }
      ]
    },
    {
      "cell_type": "markdown",
      "metadata": {
        "id": "uI-somYifrZC",
        "colab_type": "text"
      },
      "source": [
        "##### Handle Missing Values"
      ]
    },
    {
      "cell_type": "markdown",
      "metadata": {
        "id": "QSVGNdjCfuZP",
        "colab_type": "text"
      },
      "source": [
        "###### Fill with zeroes"
      ]
    },
    {
      "cell_type": "code",
      "metadata": {
        "id": "IGXjvYXjfx-B",
        "colab_type": "code",
        "colab": {}
      },
      "source": [
        "trainLA$host_response_rate[is.na(trainLA$host_response_rate)] <- 0\n",
        "testLA$host_response_rate[is.na(testLA$host_response_rate)] <- 0\n",
        "\n",
        "trainLA$host_listings_count[is.na(trainLA$host_listings_count)] <- 0\n",
        "testLA$host_listings_count[is.na(testLA$host_listings_count)] <- 0\n",
        "\n",
        "trainLA$review_scores_accuracy[is.na(trainLA$review_scores_accuracy)] <- 0\n",
        "testLA$review_scores_accuracy[is.na(testLA$review_scores_accuracy)] <- 0\n",
        "\n",
        "trainLA$review_scores_checkin[is.na(trainLA$review_scores_checkin)] <- 0\n",
        "testLA$review_scores_checkin[is.na(testLA$review_scores_checkin)] <- 0\n",
        "\n",
        "trainLA$review_scores_cleanliness[is.na(trainLA$review_scores_cleanliness)] <- 0\n",
        "testLA$review_scores_cleanliness[is.na(testLA$review_scores_cleanliness)] <- 0\n",
        "\n",
        "trainLA$review_scores_communication[is.na(trainLA$review_scores_communication)] <- 0\n",
        "testLA$review_scores_communication[is.na(testLA$review_scores_communication)] <- 0\n",
        "\n",
        "trainLA$review_scores_location[is.na(trainLA$review_scores_location)] <- 0\n",
        "testLA$review_scores_location[is.na(testLA$review_scores_location)] <- 0\n",
        "\n",
        "trainLA$review_scores_value[is.na(trainLA$review_scores_value)] <- 0\n",
        "testLA$review_scores_value[is.na(testLA$review_scores_value)] <- 0\n",
        "\n",
        "trainLA$review_scores_rating[is.na(trainLA$review_scores_rating)] <- 0\n",
        "testLA$review_scores_rating[is.na(testLA$review_scores_rating)] <- 0"
      ],
      "execution_count": 0,
      "outputs": []
    },
    {
      "cell_type": "markdown",
      "metadata": {
        "id": "pdCpsHdKiFbV",
        "colab_type": "text"
      },
      "source": [
        "###### Fill with False"
      ]
    },
    {
      "cell_type": "code",
      "metadata": {
        "id": "IjC1n6yUiIw6",
        "colab_type": "code",
        "colab": {}
      },
      "source": [
        "trainLA$host_identity_verified[is.na(trainLA$host_identity_verified)] <- FALSE\n",
        "testLA$host_identity_verified[is.na(testLA$host_identity_verified)] <- FALSE\n",
        "\n",
        "trainLA$host_is_superhost[is.na(trainLA$host_is_superhost)] <- FALSE\n",
        "testLA$host_is_superhost[is.na(testLA$host_is_superhost)] <- FALSE"
      ],
      "execution_count": 0,
      "outputs": []
    },
    {
      "cell_type": "markdown",
      "metadata": {
        "id": "JFJw3DNLmilK",
        "colab_type": "text"
      },
      "source": [
        "###### Fill with Median Date"
      ]
    },
    {
      "cell_type": "code",
      "metadata": {
        "id": "Ovsdh-y5eEeX",
        "colab_type": "code",
        "colab": {}
      },
      "source": [
        "trainLA$host_since[is.na(trainLA$host_since)] <- as.Date(\"2015-11-19\")\n",
        "testLA$host_since[is.na(testLA$host_since)] <- as.Date(\"2015-11-19\")"
      ],
      "execution_count": 0,
      "outputs": []
    },
    {
      "cell_type": "markdown",
      "metadata": {
        "id": "xNUNeYrrrW3m",
        "colab_type": "text"
      },
      "source": [
        "###### Fill with Mean Value"
      ]
    },
    {
      "cell_type": "code",
      "metadata": {
        "id": "0m9a7LE6raoE",
        "colab_type": "code",
        "colab": {}
      },
      "source": [
        "trainLA$cleaning_fee[is.na(trainLA$cleaning_fee)] <- 94.5\n",
        "testLA$cleaning_fee[is.na(testLA$cleaning_fee)] <- 94.5\n",
        "\n",
        "trainLA$security_deposit[is.na(trainLA$security_deposit)] <- 490\n",
        "testLA$security_deposit[is.na(testLA$security_deposit)] <- 490"
      ],
      "execution_count": 0,
      "outputs": []
    },
    {
      "cell_type": "markdown",
      "metadata": {
        "id": "JmLblAX8zUPD",
        "colab_type": "text"
      },
      "source": [
        "###### Fill with Median Value"
      ]
    },
    {
      "cell_type": "code",
      "metadata": {
        "id": "7svNesv7zXiQ",
        "colab_type": "code",
        "colab": {}
      },
      "source": [
        "trainLA$bedrooms[is.na(trainLA$bedrooms)] <- 1\n",
        "testLA$bedrooms[is.na(testLA$bedrooms)] <- 1\n",
        "\n",
        "trainLA$beds[is.na(trainLA$beds)] <- 1\n",
        "testLA$beds[is.na(testLA$beds)] <- 1\n",
        "\n",
        "trainLA$bathrooms[is.na(trainLA$bathrooms)] <- 1\n",
        "testLA$bathrooms[is.na(testLA$bathrooms)] <- 1"
      ],
      "execution_count": 0,
      "outputs": []
    },
    {
      "cell_type": "markdown",
      "metadata": {
        "id": "Pv5HLYeMl5lL",
        "colab_type": "text"
      },
      "source": [
        "##### Mutate Columns"
      ]
    },
    {
      "cell_type": "code",
      "metadata": {
        "id": "bMTq2ECVl-2F",
        "colab_type": "code",
        "colab": {}
      },
      "source": [
        "trainLA <- trainLA %>% mutate(host_days_active = Sys.Date() - host_since)\n",
        "testLA <- testLA %>% mutate(host_days_active = Sys.Date() - host_since)\n",
        "\n",
        "trainLA$host_days_active <- as.numeric(trainLA$host_days_active)\n",
        "testLA$host_days_active <- as.numeric(testLA$host_days_active)"
      ],
      "execution_count": 0,
      "outputs": []
    },
    {
      "cell_type": "markdown",
      "metadata": {
        "id": "zP8deDe-V_Ec",
        "colab_type": "text"
      },
      "source": [
        "##### Drop Missing-Data/Single-Valued Columns"
      ]
    },
    {
      "cell_type": "code",
      "metadata": {
        "id": "8M_0_fiQV-CF",
        "colab_type": "code",
        "colab": {}
      },
      "source": [
        "drop <- c(\"monthly_price\", \"square_feet\", \"randomControl\", \"weekly_price\", \"host_acceptance_rate\", \"state\", \"is_business_travel_ready\", \"host_has_profile_pic\")\n",
        "\n",
        "trainLA <- trainLA[ , !(names(trainLA) %in% drop)]\n",
        "testLA <- testLA[ , !(names(testLA) %in% drop)]"
      ],
      "execution_count": 0,
      "outputs": []
    },
    {
      "cell_type": "markdown",
      "metadata": {
        "id": "hHzWJwO0prHR",
        "colab_type": "text"
      },
      "source": [
        "##### Character to Factor"
      ]
    },
    {
      "cell_type": "code",
      "metadata": {
        "id": "KwxuEVsYpyNl",
        "colab_type": "code",
        "colab": {}
      },
      "source": [
        "trainLA$bed_type <- as.factor(trainLA$bed_type)\n",
        "testLA$bed_type <- as.factor(testLA$bed_type)\n",
        "\n",
        "trainLA$room_type <- as.factor(trainLA$room_type)\n",
        "testLA$room_type <- as.factor(testLA$room_type)\n",
        "\n",
        "trainLA$property_type <- as.factor(trainLA$property_type)\n",
        "testLA$property_type <- as.factor(testLA$property_type)\n",
        "\n",
        "trainLA$host_response_time <- as.factor(trainLA$host_response_time)\n",
        "testLA$host_response_time <- as.factor(testLA$host_response_time)\n",
        "\n",
        "trainLA$cancellation_policy <- as.factor(trainLA$cancellation_policy)\n",
        "testLA$cancellation_policy <- as.factor(testLA$cancellation_policy)"
      ],
      "execution_count": 0,
      "outputs": []
    },
    {
      "cell_type": "markdown",
      "metadata": {
        "id": "vizQkIa6oqPg",
        "colab_type": "text"
      },
      "source": [
        "##### View Final Table Properties"
      ]
    },
    {
      "cell_type": "code",
      "metadata": {
        "id": "DbMpmAxyW3qg",
        "colab_type": "code",
        "colab": {
          "base_uri": "https://localhost:8080/",
          "height": 1000
        },
        "outputId": "b5e3e964-a06c-4c79-aaef-aa54c9b71d42"
      },
      "source": [
        "skim(trainLA)"
      ],
      "execution_count": 99,
      "outputs": [
        {
          "output_type": "stream",
          "text": [
            "── Data Summary ────────────────────────\n",
            "                           Values \n",
            "Name                       trainLA\n",
            "Number of rows             24075  \n",
            "Number of columns          59     \n",
            "_______________________           \n",
            "Column type frequency:            \n",
            "  character                17     \n",
            "  Date                     1      \n",
            "  factor                   5      \n",
            "  logical                  7      \n",
            "  numeric                  29     \n",
            "________________________          \n",
            "Group variables            None   \n",
            "\n",
            "── Variable type: character ────────────────────────────────────────────────────\n",
            "   skim_variable         n_missing complete_rate   min   max empty n_unique\n",
            " 1 access                    10120         0.580     1  1000     0    12325\n",
            " 2 amenities                     0         1         2  1918     0    22663\n",
            " 3 city                         17         0.999     2    46     0      277\n",
            " 4 description                 829         0.966     1  1000     0    22353\n",
            " 5 host_about                 8937         0.629     1  9374     0     9343\n",
            " 6 host_location               317         0.987     2   170     0      696\n",
            " 7 host_neighbourhood         4285         0.822     3    30     0      343\n",
            " 8 host_verifications            0         1         2   177     0      424\n",
            " 9 house_rules                7304         0.697     1  1000     0    14248\n",
            "10 interaction                8678         0.640     1  1000     0    12877\n",
            "11 market                       31         0.999     5    53     0       30\n",
            "12 neighborhood_overview      8138         0.662     1  1000     0    13838\n",
            "13 neighbourhood              1334         0.945     4    28     0      162\n",
            "14 notes                     12166         0.495     1  1000     0    10188\n",
            "15 space                      6239         0.741     1  1000     0    16464\n",
            "16 transit                    9404         0.609     1  1000     0    12707\n",
            "17 zipcode                     275         0.989     1    99     0      326\n",
            "   whitespace\n",
            " 1          0\n",
            " 2          0\n",
            " 3          0\n",
            " 4          0\n",
            " 5         86\n",
            " 6          0\n",
            " 7          0\n",
            " 8          0\n",
            " 9          0\n",
            "10          0\n",
            "11          0\n",
            "12          0\n",
            "13          0\n",
            "14          0\n",
            "15          0\n",
            "16          0\n",
            "17          0\n",
            "\n",
            "── Variable type: Date ─────────────────────────────────────────────────────────\n",
            "  skim_variable n_missing complete_rate min        max        median    \n",
            "1 host_since            0             1 2008-06-27 2019-12-05 2015-11-19\n",
            "  n_unique\n",
            "1     3341\n",
            "\n",
            "── Variable type: factor ───────────────────────────────────────────────────────\n",
            "  skim_variable       n_missing complete_rate ordered n_unique\n",
            "1 bed_type                    0         1     FALSE          5\n",
            "2 cancellation_policy         0         1     FALSE          9\n",
            "3 host_response_time        255         0.989 FALSE          5\n",
            "4 property_type               0         1     FALSE         42\n",
            "5 room_type                   0         1     FALSE          4\n",
            "  top_counts                                 \n",
            "1 Rea: 23847, Fut: 84, Pul: 55, Air: 51      \n",
            "2 str: 10324, fle: 6881, mod: 6522, str: 132 \n",
            "3 wit: 13625, N/A: 4667, wit: 3371, wit: 1618\n",
            "4 Hou: 8362, Apa: 8352, Con: 1484, Gue: 1276 \n",
            "5 Ent: 15213, Pri: 7772, Sha: 889, Hot: 201  \n",
            "\n",
            "── Variable type: logical ──────────────────────────────────────────────────────\n",
            "  skim_variable                    n_missing complete_rate   mean\n",
            "1 host_identity_verified                   0             1 0.440 \n",
            "2 host_is_superhost                        0             1 0.310 \n",
            "3 instant_bookable                         0             1 0.456 \n",
            "4 is_location_exact                        0             1 0.783 \n",
            "5 require_guest_phone_verification         0             1 0.0223\n",
            "6 require_guest_profile_picture            0             1 0.0155\n",
            "7 requires_license                         0             1 0.653 \n",
            "  count                 \n",
            "1 FAL: 13476, TRU: 10599\n",
            "2 FAL: 16610, TRU: 7465 \n",
            "3 FAL: 13089, TRU: 10986\n",
            "4 TRU: 18861, FAL: 5214 \n",
            "5 FAL: 23539, TRU: 536  \n",
            "6 FAL: 23703, TRU: 372  \n",
            "7 TRU: 15714, FAL: 8361 \n",
            "\n",
            "── Variable type: numeric ──────────────────────────────────────────────────────\n",
            "   skim_variable               n_missing complete_rate        mean        sd\n",
            " 1 id                                  0             1 1101416.    58384.   \n",
            " 2 high_booking_rate                   0             1       0.273     0.445\n",
            " 3 accommodates                        0             1       3.71      2.73 \n",
            " 4 availability_30                     0             1      11.5      11.5  \n",
            " 5 availability_365                    0             1     159.      140.   \n",
            " 6 availability_60                     0             1      27.7      23.2  \n",
            " 7 availability_90                     0             1      45.4      35.2  \n",
            " 8 bathrooms                           0             1       1.49      1.01 \n",
            " 9 bedrooms                            0             1       1.45      1.13 \n",
            "10 beds                                0             1       2.00      1.65 \n",
            "11 cleaning_fee                        0             1      94.5      94.9  \n",
            "12 extra_people                        0             1      15.6      26.8  \n",
            "13 guests_included                     0             1       1.97      1.84 \n",
            "14 host_listings_count                 0             1      23.1     148.   \n",
            "15 host_response_rate                  0             1      74.8      40.7  \n",
            "16 latitude                            0             1      34.1       0.123\n",
            "17 longitude                           0             1    -118.        0.163\n",
            "18 maximum_nights                      0             1     656.      885.   \n",
            "19 minimum_nights                      0             1      11.0      21.0  \n",
            "20 price                               0             1     228.      673.   \n",
            "21 review_scores_accuracy              0             1       7.55      4.03 \n",
            "22 review_scores_checkin               0             1       7.66      4.06 \n",
            "23 review_scores_cleanliness           0             1       7.40      3.97 \n",
            "24 review_scores_communication         0             1       7.65      4.06 \n",
            "25 review_scores_location              0             1       7.61      4.04 \n",
            "26 review_scores_rating                0             1      74.1      39.5  \n",
            "27 review_scores_value                 0             1       7.41      3.96 \n",
            "28 security_deposit                    0             1     490.     2495.   \n",
            "29 host_days_active                    0             1    1644.      835.   \n",
            "          p0       p25       p50       p75      p100 hist \n",
            " 1 1000003   1050824.  1101264   1151702.  1202114   ▇▇▇▇▇\n",
            " 2       0         0         0         1         1   ▇▁▁▁▃\n",
            " 3       1         2         3         5        24   ▇▂▁▁▁\n",
            " 4       0         0         8        23        30   ▇▂▂▂▃\n",
            " 5       0         6.5     134       319       365   ▇▃▂▂▆\n",
            " 6       0         0        29        51        60   ▇▂▃▃▆\n",
            " 7       0         1        54        80        90   ▇▂▂▅▇\n",
            " 8       0         1         1         2        13.5 ▇▁▁▁▁\n",
            " 9       0         1         1         2        11   ▇▁▁▁▁\n",
            "10       0         1         1         2        50   ▇▁▁▁▁\n",
            "11       0        39        80       100      2500   ▇▁▁▁▁\n",
            "12       0         0         8        22.5     300   ▇▁▁▁▁\n",
            "13       1         1         1         2        24   ▇▁▁▁▁\n",
            "14       0         1         2         6      1759   ▇▁▁▁▁\n",
            "15       0        70       100       100       100   ▂▁▁▁▇\n",
            "16      33.3      34.0      34.1      34.1      34.8 ▁▁▇▁▁\n",
            "17    -119.     -118.     -118.     -118.     -118.  ▁▃▇▂▁\n",
            "18       1        31      1125      1125    111111   ▇▁▁▁▁\n",
            "19       1         1         2        30       750   ▇▁▁▁▁\n",
            "20       0        70       110       189     22000   ▇▁▁▁▁\n",
            "21       0         8        10        10        10   ▂▁▁▁▇\n",
            "22       0         9        10        10        10   ▂▁▁▁▇\n",
            "23       0         8         9        10        10   ▂▁▁▁▇\n",
            "24       0         9        10        10        10   ▂▁▁▁▇\n",
            "25       0         8        10        10        10   ▂▁▁▁▇\n",
            "26       0        80        95        99       100   ▂▁▁▁▇\n",
            "27       0         8         9        10        10   ▂▁▁▁▇\n",
            "28       0       100       300       490    250000   ▇▁▁▁▁\n",
            "29     149      1008      1626      2221      4327   ▆▇▆▂▁\n"
          ],
          "name": "stdout"
        }
      ]
    },
    {
      "cell_type": "code",
      "metadata": {
        "id": "5toRQMPKsS43",
        "colab_type": "code",
        "colab": {}
      },
      "source": [
        "write_csv(trainLA, \"airbnbTrainLA.csv\")\n",
        "write_csv(testLA, \"airbnbTestLA.csv\")"
      ],
      "execution_count": 0,
      "outputs": []
    }
  ]
}